{
 "cells": [
  {
   "cell_type": "markdown",
   "id": "d0b94787",
   "metadata": {},
   "source": [
    "## The task"
   ]
  },
  {
   "cell_type": "markdown",
   "id": "a40b27c5",
   "metadata": {},
   "source": [
    "In a packing plant, a machine packs cartons with jars. It is supposed that a new machine will pack faster on the average than the machine currently used. To test that hypothesis, the times it takes each machine to pack ten cartons are recorded. The results, in seconds, are shown in the tables in the file Data/machine.txt. Assume that there is sufficient evidence to conduct the t test, does the data provide sufficient evidence to show if one machine is better than the other"
   ]
  },
  {
   "cell_type": "code",
   "execution_count": 43,
   "id": "156514cd",
   "metadata": {},
   "outputs": [],
   "source": [
    "import statistics as st\n",
    "from scipy import stats\n",
    "import numpy as np"
   ]
  },
  {
   "cell_type": "code",
   "execution_count": 44,
   "id": "140df109",
   "metadata": {},
   "outputs": [],
   "source": [
    "# My data\n",
    "\n",
    "new_machine = [42.1, 41, 41.3, 41.8, 42.4, 42.8, 43.2, 42.3, 41.8, 42.7]\n",
    "old_machine = [42.7, 43.6, 43.8, 43.3, 42.5, 43.5, 43.1, 41.7, 44, 44.1]"
   ]
  },
  {
   "cell_type": "code",
   "execution_count": 45,
   "id": "9c4f7d20",
   "metadata": {},
   "outputs": [
    {
     "data": {
      "text/plain": [
       "42.14"
      ]
     },
     "execution_count": 45,
     "metadata": {},
     "output_type": "execute_result"
    }
   ],
   "source": [
    "# Calculating the mean for both variable.\n",
    "\n",
    "new_machine_mean = np.mean(new_machine)\n",
    "new_machine_mean"
   ]
  },
  {
   "cell_type": "code",
   "execution_count": 46,
   "id": "3048ce6e",
   "metadata": {},
   "outputs": [
    {
     "data": {
      "text/plain": [
       "43.23"
      ]
     },
     "execution_count": 46,
     "metadata": {},
     "output_type": "execute_result"
    }
   ],
   "source": [
    "old_machine_mean = round(np.mean(old_machine), 2)\n",
    "old_machine_mean"
   ]
  },
  {
   "cell_type": "code",
   "execution_count": 47,
   "id": "f4177e8f",
   "metadata": {},
   "outputs": [
    {
     "data": {
      "text/plain": [
       "0.648"
      ]
     },
     "execution_count": 47,
     "metadata": {},
     "output_type": "execute_result"
    }
   ],
   "source": [
    "# Calculating the standard deviations for both variable.\n",
    "\n",
    "std_new = round(np.std(new_machine), 3)\n",
    "std_new"
   ]
  },
  {
   "cell_type": "code",
   "execution_count": 48,
   "id": "24fa3c4f",
   "metadata": {},
   "outputs": [
    {
     "data": {
      "text/plain": [
       "0.711"
      ]
     },
     "execution_count": 48,
     "metadata": {},
     "output_type": "execute_result"
    }
   ],
   "source": [
    "std_old = round(np.std(old_machine), 3)\n",
    "std_old"
   ]
  },
  {
   "cell_type": "markdown",
   "id": "51ad03d7",
   "metadata": {},
   "source": [
    "### The hypothesis"
   ]
  },
  {
   "cell_type": "code",
   "execution_count": 49,
   "id": "eb7af1dc",
   "metadata": {},
   "outputs": [],
   "source": [
    "# H0: The new machine works as fast as the current machine\n",
    "# Ha: New machine packs faster than the current machine."
   ]
  },
  {
   "cell_type": "code",
   "execution_count": 50,
   "id": "e886116f",
   "metadata": {},
   "outputs": [],
   "source": [
    "# It is a two sample one tail test."
   ]
  },
  {
   "cell_type": "markdown",
   "id": "2d63c91c",
   "metadata": {},
   "source": [
    "### The test statistic and confidence level."
   ]
  },
  {
   "cell_type": "code",
   "execution_count": 51,
   "id": "9c2e85b1",
   "metadata": {},
   "outputs": [],
   "source": [
    "# I will assume there is enough evidence for the t test, our sample size is < 30. I will use t test.\n",
    "\n",
    "# ɑ = 0.05\n",
    "\n",
    "# n_new = 10\n",
    "# n_old = 10"
   ]
  },
  {
   "cell_type": "code",
   "execution_count": 52,
   "id": "3675aa95",
   "metadata": {},
   "outputs": [
    {
     "data": {
      "text/plain": [
       "3.5831"
      ]
     },
     "execution_count": 52,
     "metadata": {},
     "output_type": "execute_result"
    }
   ],
   "source": [
    "# Calculating the t value.\n",
    "\n",
    "t = round((old_machine_mean - new_machine_mean) / np.sqrt(((std_old**2)/10) + ((std_new**2)/10)), 4)\n",
    "t"
   ]
  },
  {
   "cell_type": "code",
   "execution_count": 53,
   "id": "7e5a1fff",
   "metadata": {},
   "outputs": [
    {
     "data": {
      "text/plain": [
       "-1.8331"
      ]
     },
     "execution_count": 53,
     "metadata": {},
     "output_type": "execute_result"
    }
   ],
   "source": [
    "# Calculating the critical value.\n",
    "\n",
    "tc = round(+-stats.t.ppf(0.95, df=9), 4)\n",
    "tc"
   ]
  },
  {
   "cell_type": "markdown",
   "id": "5e7b1fca",
   "metadata": {},
   "source": [
    "### Final decision"
   ]
  },
  {
   "cell_type": "markdown",
   "id": "681c03aa",
   "metadata": {},
   "source": [
    "Our test statistic is 3.5831, which is larger than the critical value 1.8331. Therefore, I will reject the H0 and accept the Ha - the new machine packs faster than the old machine."
   ]
  },
  {
   "cell_type": "code",
   "execution_count": null,
   "id": "caa8ccf3",
   "metadata": {},
   "outputs": [],
   "source": []
  }
 ],
 "metadata": {
  "kernelspec": {
   "display_name": "Python 3 (ipykernel)",
   "language": "python",
   "name": "python3"
  },
  "language_info": {
   "codemirror_mode": {
    "name": "ipython",
    "version": 3
   },
   "file_extension": ".py",
   "mimetype": "text/x-python",
   "name": "python",
   "nbconvert_exporter": "python",
   "pygments_lexer": "ipython3",
   "version": "3.10.1"
  }
 },
 "nbformat": 4,
 "nbformat_minor": 5
}
