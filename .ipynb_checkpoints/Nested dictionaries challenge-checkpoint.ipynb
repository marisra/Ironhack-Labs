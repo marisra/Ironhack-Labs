{
 "cells": [
  {
   "cell_type": "markdown",
   "id": "0ff82a7a",
   "metadata": {},
   "source": [
    "# Challenge 4: Nested dictionaries"
   ]
  },
  {
   "cell_type": "markdown",
   "id": "5b92257c",
   "metadata": {},
   "source": [
    "Next week we will deal with web scraping and API's. Python wise this means since we will encounter file formats like JSON we will have to deal with a lot of dictionaries. Not only ordinary dictionaries, but also nested ones. In this lab we will train handling them.\n",
    "\n",
    "In the following, if we show values with markdown, just copy-paste them into your `# my code here` field if you need them."
   ]
  },
  {
   "cell_type": "markdown",
   "id": "26860027",
   "metadata": {},
   "source": [
    "**Warm up phase: Here are some keys and values. Use them to build a dictionary called `numbers_dct`**"
   ]
  },
  {
   "cell_type": "markdown",
   "id": "ce7b9144",
   "metadata": {},
   "source": [
    "```python\n",
    "keys = ['hundred', 'twohundred', 'threehundred']\n",
    "values = [10, 20, 30]\n",
    "```"
   ]
  },
  {
   "cell_type": "code",
   "execution_count": 103,
   "id": "0c49f983",
   "metadata": {},
   "outputs": [
    {
     "name": "stdout",
     "output_type": "stream",
     "text": [
      "{'hundred': 10, 'twohundred': 20, 'threehundred': 30}\n"
     ]
    }
   ],
   "source": [
    "keys = ['hundred', 'twohundred', 'threehundred']\n",
    "values = [10, 20, 30]\n",
    "\n",
    "numbers_dct = dict(zip(keys, values))\n",
    "\n",
    "print(numbers_dct)"
   ]
  },
  {
   "cell_type": "markdown",
   "id": "82106422",
   "metadata": {},
   "source": [
    "**Here are two dictionaries. Merge their entries to a third dictionary**"
   ]
  },
  {
   "cell_type": "markdown",
   "id": "853eb147",
   "metadata": {},
   "source": [
    "```python\n",
    "dict1 = {'One': 1, 'Two': 2, 'Six': 6}\n",
    "dict2 = {'Thirty': 30, 'Fourty': 40, 'Fifty': 50}\n",
    "```"
   ]
  },
  {
   "cell_type": "code",
   "execution_count": 104,
   "id": "4f89673d",
   "metadata": {},
   "outputs": [],
   "source": [
    "dict1 = {'One': 1, 'Two': 2, 'Six': 6}\n",
    "dict2 = {'Thirty': 30, 'Fourty': 40, 'Fifty': 50}"
   ]
  },
  {
   "cell_type": "code",
   "execution_count": 105,
   "id": "cd6015ca",
   "metadata": {},
   "outputs": [],
   "source": [
    "dict3 = dict1.copy()\n",
    "dict3.update(dict2)"
   ]
  },
  {
   "cell_type": "code",
   "execution_count": 106,
   "id": "4d104831",
   "metadata": {},
   "outputs": [
    {
     "data": {
      "text/plain": [
       "{'One': 1, 'Two': 2, 'Six': 6, 'Thirty': 30, 'Fourty': 40, 'Fifty': 50}"
      ]
     },
     "execution_count": 106,
     "metadata": {},
     "output_type": "execute_result"
    }
   ],
   "source": [
    "dict3"
   ]
  },
  {
   "cell_type": "markdown",
   "id": "6cc95e99",
   "metadata": {},
   "source": [
    "**Nested dictionaries**"
   ]
  },
  {
   "cell_type": "markdown",
   "id": "8b6824f3",
   "metadata": {},
   "source": [
    "Here comes a bigger, nested dictionary. Store Martin's French grades in a variable called `martins_french` by navigating to the value using keys and values. Remember, while you drill down the structure of the dictionary and you encounter a new dictionary, you can always use `.keys()` and `.values()` to not loose orientation."
   ]
  },
  {
   "cell_type": "code",
   "execution_count": 107,
   "id": "0609be7f",
   "metadata": {},
   "outputs": [],
   "source": [
    "sampleDict = {\n",
    "    \"class\":{\n",
    "        \"student_list\":{\n",
    "            \"Anna\":{\n",
    "                \"marks\":{\n",
    "                    \"physics\":[70, 20, 100, 20],\n",
    "                    \"history\":[80,10,55,35],\n",
    "                    \"math\":[100, 90, 70, 35],\n",
    "                }\n",
    "            },\n",
    "            \"Martin\":{\n",
    "                \"marks\":{\n",
    "                    \"french\":[20, 10, 35, 45],\n",
    "                    \"spanish\":[40, 75, 50, 90],\n",
    "                    \"math\": [90,85, 90, 95],\n",
    "                }\n",
    "            },\n",
    "            \"Richard\":{\n",
    "                \"marks\":{\n",
    "                    \"physics\":[10, 10, 0, 90],\n",
    "                    \"biology\":[50, 50, 70, 75],\n",
    "                    \"math\":[90, 70, 50, 40],\n",
    "                }\n",
    "            }\n",
    "        }\n",
    "    }\n",
    "}"
   ]
  },
  {
   "cell_type": "code",
   "execution_count": 108,
   "id": "55fcee28",
   "metadata": {},
   "outputs": [
    {
     "data": {
      "text/plain": [
       "dict_keys(['class'])"
      ]
     },
     "execution_count": 108,
     "metadata": {},
     "output_type": "execute_result"
    }
   ],
   "source": [
    "sampleDict.keys()"
   ]
  },
  {
   "cell_type": "code",
   "execution_count": 109,
   "id": "6b6906a9",
   "metadata": {},
   "outputs": [
    {
     "data": {
      "text/plain": [
       "dict_values([{'Anna': {'marks': {'physics': [70, 20, 100, 20], 'history': [80, 10, 55, 35], 'math': [100, 90, 70, 35]}}, 'Martin': {'marks': {'french': [20, 10, 35, 45], 'spanish': [40, 75, 50, 90], 'math': [90, 85, 90, 95]}}, 'Richard': {'marks': {'physics': [10, 10, 0, 90], 'biology': [50, 50, 70, 75], 'math': [90, 70, 50, 40]}}}])"
      ]
     },
     "execution_count": 109,
     "metadata": {},
     "output_type": "execute_result"
    }
   ],
   "source": [
    "sampleDict[\"class\"].values()"
   ]
  },
  {
   "cell_type": "code",
   "execution_count": 110,
   "id": "018e7be2",
   "metadata": {},
   "outputs": [
    {
     "data": {
      "text/plain": [
       "dict_keys(['student_list'])"
      ]
     },
     "execution_count": 110,
     "metadata": {},
     "output_type": "execute_result"
    }
   ],
   "source": [
    "sampleDict[\"class\"].keys()"
   ]
  },
  {
   "cell_type": "code",
   "execution_count": 111,
   "id": "ff0b96b1",
   "metadata": {},
   "outputs": [
    {
     "data": {
      "text/plain": [
       "dict_keys(['Anna', 'Martin', 'Richard'])"
      ]
     },
     "execution_count": 111,
     "metadata": {},
     "output_type": "execute_result"
    }
   ],
   "source": [
    "sampleDict[\"class\"][\"student_list\"].keys()"
   ]
  },
  {
   "cell_type": "code",
   "execution_count": 112,
   "id": "aa09723f",
   "metadata": {},
   "outputs": [
    {
     "data": {
      "text/plain": [
       "dict_keys(['marks'])"
      ]
     },
     "execution_count": 112,
     "metadata": {},
     "output_type": "execute_result"
    }
   ],
   "source": [
    "sampleDict[\"class\"][\"student_list\"][\"Martin\"].keys()"
   ]
  },
  {
   "cell_type": "code",
   "execution_count": 113,
   "id": "bb359a00",
   "metadata": {},
   "outputs": [
    {
     "data": {
      "text/plain": [
       "dict_keys(['french', 'spanish', 'math'])"
      ]
     },
     "execution_count": 113,
     "metadata": {},
     "output_type": "execute_result"
    }
   ],
   "source": [
    "sampleDict[\"class\"][\"student_list\"][\"Martin\"][\"marks\"].keys()"
   ]
  },
  {
   "cell_type": "code",
   "execution_count": 114,
   "id": "523bdd6d",
   "metadata": {},
   "outputs": [
    {
     "name": "stdout",
     "output_type": "stream",
     "text": [
      "Martin's french grades are: [20, 10, 35, 45]\n"
     ]
    }
   ],
   "source": [
    "martins_french = sampleDict[\"class\"][\"student_list\"][\"Martin\"][\"marks\"][\"french\"]\n",
    "print(\"Martin's french grades are:\", martins_french)"
   ]
  },
  {
   "cell_type": "markdown",
   "id": "e935dd13",
   "metadata": {},
   "source": [
    "**Calculate the mean of Richard's biology's grades**"
   ]
  },
  {
   "cell_type": "code",
   "execution_count": 115,
   "id": "b55e1ee4",
   "metadata": {},
   "outputs": [
    {
     "data": {
      "text/plain": [
       "dict_keys(['physics', 'biology', 'math'])"
      ]
     },
     "execution_count": 115,
     "metadata": {},
     "output_type": "execute_result"
    }
   ],
   "source": [
    "# First, I will print Richards biology grades\n",
    "sampleDict[\"class\"][\"student_list\"][\"Richard\"][\"marks\"].keys()\n"
   ]
  },
  {
   "cell_type": "code",
   "execution_count": 116,
   "id": "ff5dbf20",
   "metadata": {},
   "outputs": [
    {
     "name": "stdout",
     "output_type": "stream",
     "text": [
      "Richard's biology grades:  [50, 50, 70, 75]\n"
     ]
    }
   ],
   "source": [
    "richards_biology = sampleDict[\"class\"][\"student_list\"][\"Richard\"][\"marks\"][\"biology\"]\n",
    "print(\"Richard's biology grades: \", richards_biology)"
   ]
  },
  {
   "cell_type": "code",
   "execution_count": 117,
   "id": "34e3203e",
   "metadata": {},
   "outputs": [],
   "source": [
    "import statistics as st"
   ]
  },
  {
   "cell_type": "code",
   "execution_count": 118,
   "id": "9768632d",
   "metadata": {},
   "outputs": [
    {
     "data": {
      "text/plain": [
       "61.25"
      ]
     },
     "execution_count": 118,
     "metadata": {},
     "output_type": "execute_result"
    }
   ],
   "source": [
    "st.mean(richards_biology)"
   ]
  },
  {
   "cell_type": "code",
   "execution_count": null,
   "id": "a0fc81a0",
   "metadata": {},
   "outputs": [],
   "source": []
  },
  {
   "cell_type": "markdown",
   "id": "8fd6b018",
   "metadata": {},
   "source": [
    "**Return a list of all the students**"
   ]
  },
  {
   "cell_type": "code",
   "execution_count": 119,
   "id": "102c92e3",
   "metadata": {},
   "outputs": [
    {
     "name": "stdout",
     "output_type": "stream",
     "text": [
      "['Anna', 'Martin', 'Richard']\n"
     ]
    }
   ],
   "source": [
    "all_students = list(sampleDict[\"class\"][\"student_list\"].keys())\n",
    "print(all_students)"
   ]
  },
  {
   "cell_type": "markdown",
   "id": "467fdf08",
   "metadata": {},
   "source": [
    "**Return Anna's 2nd grade in history**"
   ]
  },
  {
   "cell_type": "code",
   "execution_count": 120,
   "id": "72da977b",
   "metadata": {},
   "outputs": [
    {
     "data": {
      "text/plain": [
       "dict_keys(['physics', 'history', 'math'])"
      ]
     },
     "execution_count": 120,
     "metadata": {},
     "output_type": "execute_result"
    }
   ],
   "source": [
    "sampleDict[\"class\"][\"student_list\"][\"Anna\"][\"marks\"].keys()"
   ]
  },
  {
   "cell_type": "code",
   "execution_count": 121,
   "id": "679beac2",
   "metadata": {},
   "outputs": [
    {
     "name": "stdout",
     "output_type": "stream",
     "text": [
      "10\n"
     ]
    }
   ],
   "source": [
    "annas_history_2 = sampleDict[\"class\"][\"student_list\"][\"Anna\"][\"marks\"][\"history\"]\n",
    "print(annas_history_2[1])"
   ]
  },
  {
   "cell_type": "markdown",
   "id": "f3897907",
   "metadata": {},
   "source": [
    "**Return all the grades that are 3rd in the list for every subject for all the students**\n",
    "\n",
    "Use appropriate `for` loops and a `print()` statement"
   ]
  },
  {
   "cell_type": "code",
   "execution_count": 122,
   "id": "956d1f3e",
   "metadata": {},
   "outputs": [
    {
     "name": "stdout",
     "output_type": "stream",
     "text": [
      "100\n",
      "55\n",
      "70\n",
      "100\n",
      "55\n",
      "70\n",
      "100\n",
      "55\n",
      "70\n",
      "100\n",
      "55\n",
      "70\n",
      "100\n",
      "55\n",
      "70\n",
      "100\n",
      "55\n",
      "70\n",
      "100\n",
      "55\n",
      "70\n",
      "100\n",
      "55\n",
      "70\n",
      "100\n",
      "55\n",
      "70\n",
      "35\n",
      "50\n",
      "90\n",
      "35\n",
      "50\n",
      "90\n",
      "35\n",
      "50\n",
      "90\n",
      "35\n",
      "50\n",
      "90\n",
      "35\n",
      "50\n",
      "90\n",
      "35\n",
      "50\n",
      "90\n",
      "35\n",
      "50\n",
      "90\n",
      "35\n",
      "50\n",
      "90\n",
      "35\n",
      "50\n",
      "90\n",
      "0\n",
      "70\n",
      "50\n",
      "0\n",
      "70\n",
      "50\n",
      "0\n",
      "70\n",
      "50\n",
      "0\n",
      "70\n",
      "50\n",
      "0\n",
      "70\n",
      "50\n",
      "0\n",
      "70\n",
      "50\n",
      "0\n",
      "70\n",
      "50\n",
      "0\n",
      "70\n",
      "50\n",
      "0\n",
      "70\n",
      "50\n"
     ]
    }
   ],
   "source": [
    "# Output should be: 100,55,70,35,50,90,0,70,50.\n",
    "# WHY SO MANY LINES IN OUTPUT?\n",
    "\n",
    "# Anna\n",
    "for sampleDict_keys in sampleDict:\n",
    "    for class_keys in sampleDict[\"class\"]:\n",
    "        for student_list_keys in sampleDict[\"class\"][\"student_list\"]:\n",
    "            for student in sampleDict[\"class\"][\"student_list\"][\"Anna\"]:\n",
    "                for subject in sampleDict[\"class\"][\"student_list\"][\"Anna\"][\"marks\"]:\n",
    "                    print((sampleDict[\"class\"][\"student_list\"][\"Anna\"][\"marks\"][\"physics\"])[2])\n",
    "                    print((sampleDict[\"class\"][\"student_list\"][\"Anna\"][\"marks\"][\"history\"])[2])\n",
    "                    print((sampleDict[\"class\"][\"student_list\"][\"Anna\"][\"marks\"][\"math\"])[2])\n",
    "\n",
    "# Martin\n",
    "\n",
    "for sampleDict_keys in sampleDict:\n",
    "    for class_keys in sampleDict[\"class\"]:\n",
    "        for student_list_keys in sampleDict[\"class\"][\"student_list\"]:\n",
    "            for student in sampleDict[\"class\"][\"student_list\"][\"Martin\"]:\n",
    "                for subject in sampleDict[\"class\"][\"student_list\"][\"Martin\"][\"marks\"]:\n",
    "                    print((sampleDict[\"class\"][\"student_list\"][\"Martin\"][\"marks\"][\"french\"])[2])\n",
    "                    print((sampleDict[\"class\"][\"student_list\"][\"Martin\"][\"marks\"][\"spanish\"])[2])\n",
    "                    print((sampleDict[\"class\"][\"student_list\"][\"Martin\"][\"marks\"][\"math\"])[2])\n",
    "                    \n",
    "# Richard\n",
    "\n",
    "for sampleDict_keys in sampleDict:\n",
    "    for class_keys in sampleDict[\"class\"]:\n",
    "        for student_list_keys in sampleDict[\"class\"][\"student_list\"]:\n",
    "            for student in sampleDict[\"class\"][\"student_list\"][\"Richard\"]:\n",
    "                for subject in sampleDict[\"class\"][\"student_list\"][\"Richard\"][\"marks\"]:\n",
    "                    print((sampleDict[\"class\"][\"student_list\"][\"Richard\"][\"marks\"][\"physics\"])[2])\n",
    "                    print((sampleDict[\"class\"][\"student_list\"][\"Richard\"][\"marks\"][\"biology\"])[2])\n",
    "                    print((sampleDict[\"class\"][\"student_list\"][\"Richard\"][\"marks\"][\"math\"])[2])\n",
    "\n"
   ]
  },
  {
   "cell_type": "code",
   "execution_count": null,
   "id": "bdea444a",
   "metadata": {},
   "outputs": [],
   "source": []
  },
  {
   "cell_type": "markdown",
   "id": "dc295ef3",
   "metadata": {},
   "source": [
    "**Get all the grades and store them in a list `all_grades` Calculate the mean (solution: 55.97)**\n",
    "\n",
    "You can of course use a modified version of your solution of the previous question."
   ]
  },
  {
   "cell_type": "code",
   "execution_count": 123,
   "id": "f4173977",
   "metadata": {},
   "outputs": [],
   "source": [
    "all_grades = []\n",
    "\n",
    "for sampleDict_keys in sampleDict:\n",
    "    for class_keys in sampleDict[sampleDict_keys]:\n",
    "        for student_list_keys in sampleDict[sampleDict_keys][class_keys]:\n",
    "            for student in sampleDict[sampleDict_keys][class_keys][student_list_keys]:\n",
    "                for subject in sampleDict[sampleDict_keys][class_keys][student_list_keys][student]:\n",
    "                    for grade in sampleDict[sampleDict_keys][class_keys][student_list_keys][student][subject]:\n",
    "                        all_grades.append(grade)"
   ]
  },
  {
   "cell_type": "code",
   "execution_count": 124,
   "id": "b14c3b1c",
   "metadata": {},
   "outputs": [
    {
     "data": {
      "text/plain": [
       "[70,\n",
       " 20,\n",
       " 100,\n",
       " 20,\n",
       " 80,\n",
       " 10,\n",
       " 55,\n",
       " 35,\n",
       " 100,\n",
       " 90,\n",
       " 70,\n",
       " 35,\n",
       " 20,\n",
       " 10,\n",
       " 35,\n",
       " 45,\n",
       " 40,\n",
       " 75,\n",
       " 50,\n",
       " 90,\n",
       " 90,\n",
       " 85,\n",
       " 90,\n",
       " 95,\n",
       " 10,\n",
       " 10,\n",
       " 0,\n",
       " 90,\n",
       " 50,\n",
       " 50,\n",
       " 70,\n",
       " 75,\n",
       " 90,\n",
       " 70,\n",
       " 50,\n",
       " 40]"
      ]
     },
     "execution_count": 124,
     "metadata": {},
     "output_type": "execute_result"
    }
   ],
   "source": [
    "all_grades"
   ]
  },
  {
   "cell_type": "code",
   "execution_count": 125,
   "id": "5409f3fb",
   "metadata": {},
   "outputs": [
    {
     "data": {
      "text/plain": [
       "55.97222222222222"
      ]
     },
     "execution_count": 125,
     "metadata": {},
     "output_type": "execute_result"
    }
   ],
   "source": [
    "st.mean(all_grades)"
   ]
  },
  {
   "cell_type": "markdown",
   "id": "c33710ee",
   "metadata": {},
   "source": [
    "**Save that list as a column in a pandas dataframe and plot a histogram with it**"
   ]
  },
  {
   "cell_type": "code",
   "execution_count": 126,
   "id": "c940a412",
   "metadata": {},
   "outputs": [],
   "source": [
    "import pandas as pd\n"
   ]
  },
  {
   "cell_type": "code",
   "execution_count": 127,
   "id": "a9750bbf",
   "metadata": {},
   "outputs": [
    {
     "name": "stdout",
     "output_type": "stream",
     "text": [
      "    Grades\n",
      "0       70\n",
      "1       20\n",
      "2      100\n",
      "3       20\n",
      "4       80\n",
      "5       10\n",
      "6       55\n",
      "7       35\n",
      "8      100\n",
      "9       90\n",
      "10      70\n",
      "11      35\n",
      "12      20\n",
      "13      10\n",
      "14      35\n",
      "15      45\n",
      "16      40\n",
      "17      75\n",
      "18      50\n",
      "19      90\n",
      "20      90\n",
      "21      85\n",
      "22      90\n",
      "23      95\n",
      "24      10\n",
      "25      10\n",
      "26       0\n",
      "27      90\n",
      "28      50\n",
      "29      50\n",
      "30      70\n",
      "31      75\n",
      "32      90\n",
      "33      70\n",
      "34      50\n",
      "35      40\n"
     ]
    }
   ],
   "source": [
    "all_grades_df = pd.DataFrame(columns = [\"Grades\"])\n",
    "all_grades_df[\"Grades\"] = all_grades\n",
    "print(all_grades_df)"
   ]
  },
  {
   "cell_type": "markdown",
   "id": "581c1e18",
   "metadata": {},
   "source": [
    "Output should look like this"
   ]
  },
  {
   "cell_type": "code",
   "execution_count": 128,
   "id": "544f791b",
   "metadata": {},
   "outputs": [
    {
     "data": {
      "image/png": "[encoded data removed]",
      "text/plain": [
       "<Figure size 432x288 with 1 Axes>"
      ]
     },
     "metadata": {
      "needs_background": "light"
     },
     "output_type": "display_data"
    }
   ],
   "source": [
    "all_grades_histogram = all_grades_df.hist(bins=10)"
   ]
  },
  {
   "cell_type": "markdown",
   "id": "bf1468d8",
   "metadata": {},
   "source": [
    "**Return all the students subjects. Watch out: We don't want repetitions!**"
   ]
  },
  {
   "cell_type": "code",
   "execution_count": 129,
   "id": "dd6a9494",
   "metadata": {},
   "outputs": [
    {
     "data": {
      "text/plain": [
       "['physics',\n",
       " 'history',\n",
       " 'math',\n",
       " 'french',\n",
       " 'spanish',\n",
       " 'math',\n",
       " 'physics',\n",
       " 'biology',\n",
       " 'math']"
      ]
     },
     "execution_count": 129,
     "metadata": {},
     "output_type": "execute_result"
    }
   ],
   "source": [
    "# THIS IS WRONG\n",
    "\n",
    "all_subjects = []\n",
    "\n",
    "for sampleDict_keys in sampleDict:\n",
    "    for class_keys in sampleDict[sampleDict_keys]:\n",
    "        for student_list_keys in sampleDict[sampleDict_keys][class_keys]:\n",
    "            for student in sampleDict[sampleDict_keys][class_keys][student_list_keys]:\n",
    "                for subject in sampleDict[sampleDict_keys][class_keys][student_list_keys][student]:\n",
    "                    all_subjects.append(subject)\n",
    "\n",
    "all_subjects"
   ]
  },
  {
   "cell_type": "markdown",
   "id": "2144983d",
   "metadata": {},
   "source": [
    "Output should look like this"
   ]
  },
  {
   "cell_type": "code",
   "execution_count": null,
   "id": "4dabe1ba",
   "metadata": {},
   "outputs": [],
   "source": []
  },
  {
   "cell_type": "markdown",
   "id": "78ecbdb7",
   "metadata": {},
   "source": [
    "**Richard heard you're a data enthusiast and asks you to hack the school server and and replace his worst physics grade rounded to full integers (0) with the mean of his physics grades (he doesn't want to raise suspicion). Help him do that. Check wether your hack was successful by printing his physics grade**"
   ]
  },
  {
   "cell_type": "code",
   "execution_count": 130,
   "id": "70940e05",
   "metadata": {},
   "outputs": [
    {
     "name": "stdout",
     "output_type": "stream",
     "text": [
      "[10, 10, 0, 90]\n"
     ]
    }
   ],
   "source": [
    "# output: [10, 10, 36, 90]\n",
    "\n",
    "richards_physics = sampleDict[\"class\"][\"student_list\"][\"Richard\"][\"marks\"][\"physics\"]\n",
    "print(richards_physics)\n"
   ]
  },
  {
   "cell_type": "code",
   "execution_count": 131,
   "id": "0aebf3c1",
   "metadata": {},
   "outputs": [
    {
     "data": {
      "text/plain": [
       "28"
      ]
     },
     "execution_count": 131,
     "metadata": {},
     "output_type": "execute_result"
    }
   ],
   "source": [
    "richards_physics_mean = round(st.mean(richards_physics))\n",
    "richards_physics_mean\n",
    "\n",
    "# WHY SHOULD I DIVIDE THE SUM BY 3? (then the answer would be like intended (10,10,36,90))"
   ]
  },
  {
   "cell_type": "code",
   "execution_count": 132,
   "id": "efed8819",
   "metadata": {},
   "outputs": [],
   "source": [
    "richards_physics[2] = 28"
   ]
  },
  {
   "cell_type": "code",
   "execution_count": 133,
   "id": "988d6c6d",
   "metadata": {},
   "outputs": [
    {
     "data": {
      "text/plain": [
       "[10, 10, 28, 90]"
      ]
     },
     "execution_count": 133,
     "metadata": {},
     "output_type": "execute_result"
    }
   ],
   "source": [
    "richards_physics"
   ]
  },
  {
   "cell_type": "markdown",
   "id": "f3ac8abe",
   "metadata": {},
   "source": [
    "**The hack was discovered! They found out it must have been Richard because his physics grade is not a multiple of 5 like all the other grades**\n",
    "\n",
    "Expell Richard (poor Richard!) by removing him from the dictionary. Use `del`. And print the resulting class dictionary."
   ]
  },
  {
   "cell_type": "code",
   "execution_count": 135,
   "id": "04ac9459",
   "metadata": {},
   "outputs": [],
   "source": [
    "del sampleDict[\"class\"][\"student_list\"][\"Richard\"]"
   ]
  },
  {
   "cell_type": "code",
   "execution_count": 136,
   "id": "ce1e8d6c",
   "metadata": {},
   "outputs": [
    {
     "data": {
      "text/plain": [
       "{'class': {'student_list': {'Anna': {'marks': {'physics': [70, 20, 100, 20],\n",
       "     'history': [80, 10, 55, 35],\n",
       "     'math': [100, 90, 70, 35]}},\n",
       "   'Martin': {'marks': {'french': [20, 10, 35, 45],\n",
       "     'spanish': [40, 75, 50, 90],\n",
       "     'math': [90, 85, 90, 95]}}}}}"
      ]
     },
     "execution_count": 136,
     "metadata": {},
     "output_type": "execute_result"
    }
   ],
   "source": [
    "sampleDict"
   ]
  },
  {
   "cell_type": "code",
   "execution_count": 108,
   "id": "62282f21",
   "metadata": {},
   "outputs": [
    {
     "data": {
      "text/plain": [
       "{'class': {'student_list': {'Anna': {'marks': {'physics': [70, 20, 100, 20],\n",
       "     'history': [80, 10, 55, 35],\n",
       "     'math': [100, 90, 70, 35]}},\n",
       "   'Martin': {'marks': {'french': [20, 10, 35, 45],\n",
       "     'spanish': [40, 75, 50, 90],\n",
       "     'math': [90, 85, 90, 95]}}}}}"
      ]
     },
     "execution_count": 108,
     "metadata": {},
     "output_type": "execute_result"
    }
   ],
   "source": [
    "# your code here\n"
   ]
  },
  {
   "cell_type": "code",
   "execution_count": null,
   "id": "a9757027",
   "metadata": {},
   "outputs": [],
   "source": []
  }
 ],
 "metadata": {
  "kernelspec": {
   "display_name": "Python 3 (ipykernel)",
   "language": "python",
   "name": "python3"
  },
  "language_info": {
   "codemirror_mode": {
    "name": "ipython",
    "version": 3
   },
   "file_extension": ".py",
   "mimetype": "text/x-python",
   "name": "python",
   "nbconvert_exporter": "python",
   "pygments_lexer": "ipython3",
   "version": "3.9.7"
  }
 },
 "nbformat": 4,
 "nbformat_minor": 5
}
