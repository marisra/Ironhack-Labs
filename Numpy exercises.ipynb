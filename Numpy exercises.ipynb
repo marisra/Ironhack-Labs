{
 "cells": [
  {
   "cell_type": "code",
   "execution_count": 1,
   "id": "16c76bc0",
   "metadata": {},
   "outputs": [],
   "source": [
    "# Import numpy package\n",
    "\n",
    "import numpy as np"
   ]
  },
  {
   "cell_type": "code",
   "execution_count": 3,
   "id": "e995da5d",
   "metadata": {},
   "outputs": [
    {
     "name": "stdout",
     "output_type": "stream",
     "text": [
      "[0. 0. 0. 0. 0. 0. 0. 0. 0. 0.]\n"
     ]
    }
   ],
   "source": [
    "# Create a null vector of size 10\n",
    "\n",
    "null_vector = np.zeros(10)\n",
    "print(null_vector)"
   ]
  },
  {
   "cell_type": "code",
   "execution_count": 20,
   "id": "e8cea845",
   "metadata": {},
   "outputs": [
    {
     "name": "stdout",
     "output_type": "stream",
     "text": [
      "[0. 0. 0. 0. 0. 0. 0. 0. 0. 0.]\n"
     ]
    }
   ],
   "source": [
    "# Create a null vector of size 10, but with a fifth value, which is 5\n",
    "\n",
    "null_vector_fifth = np.zeros(10)\n",
    "print(null_vector_fifth)"
   ]
  },
  {
   "cell_type": "code",
   "execution_count": 21,
   "id": "66467c6c",
   "metadata": {},
   "outputs": [
    {
     "name": "stdout",
     "output_type": "stream",
     "text": [
      "[0. 0. 0. 0. 5. 0. 0. 0. 0. 0.]\n"
     ]
    }
   ],
   "source": [
    "null_vector_fifth[4] = 5\n",
    "print(null_vector_fifth)"
   ]
  },
  {
   "cell_type": "code",
   "execution_count": 8,
   "id": "f0fbc051",
   "metadata": {},
   "outputs": [
    {
     "name": "stdout",
     "output_type": "stream",
     "text": [
      "[10 11 12 13 14 15 16 17 18 19 20 21 22 23 24 25 26 27 28 29 30 31 32 33\n",
      " 34 35 36 37 38 39 40 41 42 43 44 45 46 47 48 49]\n"
     ]
    }
   ],
   "source": [
    "# Create a vector with values ranging from 10 to 49\n",
    "\n",
    "a = np.arange(10, 50, 1)\n",
    "print(a)"
   ]
  },
  {
   "cell_type": "code",
   "execution_count": 12,
   "id": "654356c6",
   "metadata": {},
   "outputs": [
    {
     "name": "stdout",
     "output_type": "stream",
     "text": [
      "[[0 1 2]\n",
      " [3 4 5]\n",
      " [6 7 8]]\n"
     ]
    }
   ],
   "source": [
    "# Create a 3x3 matrix with values ranging from 0 to 8\n",
    "\n",
    "m = np.arange(0,9).reshape(3,3) \n",
    "print(m)"
   ]
  },
  {
   "cell_type": "code",
   "execution_count": 19,
   "id": "3c1a5402",
   "metadata": {},
   "outputs": [
    {
     "name": "stdout",
     "output_type": "stream",
     "text": [
      "(array([0, 1, 4]),)\n"
     ]
    }
   ],
   "source": [
    "# Find indices of non-zero elements from [1,2,0,0,4,0] \n",
    "b = [1,2,0,0,4,0]\n",
    "c = np.nonzero(b)\n",
    "print(c)"
   ]
  },
  {
   "cell_type": "code",
   "execution_count": 23,
   "id": "e365d376",
   "metadata": {},
   "outputs": [
    {
     "name": "stdout",
     "output_type": "stream",
     "text": [
      "[[1. 0. 0.]\n",
      " [0. 1. 0.]\n",
      " [0. 0. 1.]]\n"
     ]
    }
   ],
   "source": [
    "# Create a 3x3 identity matrix \n",
    "\n",
    "ident_matr = np.eye(3,3)\n",
    "print(ident_matr)"
   ]
  },
  {
   "cell_type": "code",
   "execution_count": 32,
   "id": "c5ff3f35",
   "metadata": {},
   "outputs": [
    {
     "name": "stdout",
     "output_type": "stream",
     "text": [
      "[[[0.69646919 0.28613933 0.22685145]\n",
      "  [0.55131477 0.71946897 0.42310646]\n",
      "  [0.9807642  0.68482974 0.4809319 ]]\n",
      "\n",
      " [[0.39211752 0.34317802 0.72904971]\n",
      "  [0.43857224 0.0596779  0.39804426]\n",
      "  [0.73799541 0.18249173 0.17545176]]\n",
      "\n",
      " [[0.53155137 0.53182759 0.63440096]\n",
      "  [0.84943179 0.72445532 0.61102351]\n",
      "  [0.72244338 0.32295891 0.36178866]]]\n"
     ]
    }
   ],
   "source": [
    "# Create a 3x3x3 array with random values\n",
    "np.random.seed(123)\n",
    "rand_arr = np.random.random((3,3,3))\n",
    "print(rand_arr)"
   ]
  },
  {
   "cell_type": "code",
   "execution_count": 33,
   "id": "4a43ff7b",
   "metadata": {},
   "outputs": [
    {
     "name": "stdout",
     "output_type": "stream",
     "text": [
      "[[0.69646919 0.28613933 0.22685145 0.55131477 0.71946897 0.42310646\n",
      "  0.9807642  0.68482974 0.4809319  0.39211752]\n",
      " [0.34317802 0.72904971 0.43857224 0.0596779  0.39804426 0.73799541\n",
      "  0.18249173 0.17545176 0.53155137 0.53182759]\n",
      " [0.63440096 0.84943179 0.72445532 0.61102351 0.72244338 0.32295891\n",
      "  0.36178866 0.22826323 0.29371405 0.63097612]\n",
      " [0.09210494 0.43370117 0.43086276 0.4936851  0.42583029 0.31226122\n",
      "  0.42635131 0.89338916 0.94416002 0.50183668]\n",
      " [0.62395295 0.1156184  0.31728548 0.41482621 0.86630916 0.25045537\n",
      "  0.48303426 0.98555979 0.51948512 0.61289453]\n",
      " [0.12062867 0.8263408  0.60306013 0.54506801 0.34276383 0.30412079\n",
      "  0.41702221 0.68130077 0.87545684 0.51042234]\n",
      " [0.66931378 0.58593655 0.6249035  0.67468905 0.84234244 0.08319499\n",
      "  0.76368284 0.24366637 0.19422296 0.57245696]\n",
      " [0.09571252 0.88532683 0.62724897 0.72341636 0.01612921 0.59443188\n",
      "  0.55678519 0.15895964 0.15307052 0.69552953]\n",
      " [0.31876643 0.6919703  0.55438325 0.38895057 0.92513249 0.84167\n",
      "  0.35739757 0.04359146 0.30476807 0.39818568]\n",
      " [0.70495883 0.99535848 0.35591487 0.76254781 0.59317692 0.6917018\n",
      "  0.15112745 0.39887629 0.2408559  0.34345601]]\n"
     ]
    },
    {
     "data": {
      "text/plain": [
       "0.01612920669501683"
      ]
     },
     "execution_count": 33,
     "metadata": {},
     "output_type": "execute_result"
    }
   ],
   "source": [
    "# Create a 10x10 array with random values and find the minimum and maximum values\n",
    "np.random.seed(123)\n",
    "ten_arr = np.random.random((10,10))\n",
    "print(ten_arr)\n",
    "\n",
    "np.amin(ten_arr)"
   ]
  },
  {
   "cell_type": "code",
   "execution_count": 34,
   "id": "f6a15f43",
   "metadata": {},
   "outputs": [
    {
     "data": {
      "text/plain": [
       "0.9953584820340174"
      ]
     },
     "execution_count": 34,
     "metadata": {},
     "output_type": "execute_result"
    }
   ],
   "source": [
    "np.amax(ten_arr)"
   ]
  },
  {
   "cell_type": "code",
   "execution_count": 35,
   "id": "549db30c",
   "metadata": {},
   "outputs": [
    {
     "name": "stdout",
     "output_type": "stream",
     "text": [
      "[0.69646919 0.28613933 0.22685145 0.55131477 0.71946897 0.42310646\n",
      " 0.9807642  0.68482974 0.4809319  0.39211752 0.34317802 0.72904971\n",
      " 0.43857224 0.0596779  0.39804426 0.73799541 0.18249173 0.17545176\n",
      " 0.53155137 0.53182759 0.63440096 0.84943179 0.72445532 0.61102351\n",
      " 0.72244338 0.32295891 0.36178866 0.22826323 0.29371405 0.63097612]\n"
     ]
    }
   ],
   "source": [
    "# Create a random vector of size 30 and find the mean value\n",
    "\n",
    "np.random.seed(123)\n",
    "rand_vect = np.random.random(30,)\n",
    "print(rand_vect)"
   ]
  },
  {
   "cell_type": "code",
   "execution_count": 36,
   "id": "eec8df1e",
   "metadata": {},
   "outputs": [
    {
     "data": {
      "text/plain": [
       "0.4983096481504978"
      ]
     },
     "execution_count": 36,
     "metadata": {},
     "output_type": "execute_result"
    }
   ],
   "source": [
    "np.mean(rand_vect)"
   ]
  },
  {
   "cell_type": "code",
   "execution_count": 66,
   "id": "d573e466",
   "metadata": {},
   "outputs": [
    {
     "name": "stdout",
     "output_type": "stream",
     "text": [
      "[[0.69646919 0.28613933 0.22685145 0.55131477 0.71946897]\n",
      " [0.42310646 0.9807642  0.68482974 0.4809319  0.39211752]\n",
      " [0.34317802 0.72904971 0.43857224 0.0596779  0.39804426]\n",
      " [0.73799541 0.18249173 0.17545176 0.53155137 0.53182759]\n",
      " [0.63440096 0.84943179 0.72445532 0.61102351 0.72244338]]\n"
     ]
    }
   ],
   "source": [
    "# Create a 5x5 matrix with values 1,2,3,4 just below the diagonal \n",
    "\n",
    "np.random.seed(123)\n",
    "five_matrix = np.random.random((5,5))\n",
    "print(five_matrix)"
   ]
  },
  {
   "cell_type": "code",
   "execution_count": 68,
   "id": "9b1e5dac",
   "metadata": {},
   "outputs": [
    {
     "name": "stdout",
     "output_type": "stream",
     "text": [
      "[[0.69646919 0.28613933 0.22685145 0.55131477 0.71946897]\n",
      " [1.         0.9807642  0.68482974 0.4809319  0.39211752]\n",
      " [0.34317802 2.         0.43857224 0.0596779  0.39804426]\n",
      " [0.73799541 0.18249173 3.         0.53155137 0.53182759]\n",
      " [0.63440096 0.84943179 0.72445532 4.         0.72244338]]\n"
     ]
    }
   ],
   "source": [
    "z = ([1,2,3,4])\n",
    "#np.fill_diagonal(five_matrix[1,], z)\n",
    "#five_matrix[np.diag_indices_from(five_matrix)] = 0\n",
    "\n",
    "five_matrix[1,0] = 1\n",
    "five_matrix[2,1] = 2\n",
    "five_matrix[3,2] = 3\n",
    "five_matrix[4,3] = 4\n",
    "\n",
    "print(five_matrix)"
   ]
  },
  {
   "cell_type": "code",
   "execution_count": 69,
   "id": "71a79f98",
   "metadata": {},
   "outputs": [
    {
     "name": "stdout",
     "output_type": "stream",
     "text": [
      "[[0.69646919 0.28613933 0.22685145 0.55131477 0.71946897]\n",
      " [0.42310646 0.9807642  0.68482974 0.4809319  0.39211752]\n",
      " [0.34317802 0.72904971 0.43857224 0.0596779  0.39804426]\n",
      " [0.73799541 0.18249173 0.17545176 0.53155137 0.53182759]\n",
      " [0.63440096 0.84943179 0.72445532 0.61102351 0.72244338]]\n"
     ]
    }
   ],
   "source": [
    "# Normalize a 5x5 random matrix\n",
    "\n",
    "np.random.seed(123)\n",
    "rand_matr = np.random.random((5,5))\n",
    "print(rand_matr)"
   ]
  },
  {
   "cell_type": "code",
   "execution_count": 71,
   "id": "65564484",
   "metadata": {},
   "outputs": [
    {
     "name": "stdout",
     "output_type": "stream",
     "text": [
      "[[0.69134813 0.24586343 0.18149608 0.53375766 0.71631841]\n",
      " [0.39456516 1.         0.67871147 0.45734477 0.36092125]\n",
      " [0.30778888 0.72671997 0.41135597 0.         0.36735576]\n",
      " [0.73643209 0.13333586 0.12569274 0.51230105 0.51260093]\n",
      " [0.62396223 0.85741574 0.72173197 0.59858193 0.71954765]]\n"
     ]
    }
   ],
   "source": [
    "rand_matr = (rand_matr - rand_matr.min()) / (rand_matr.max() - rand_matr.min())\n",
    "print(rand_matr)"
   ]
  },
  {
   "cell_type": "code",
   "execution_count": 72,
   "id": "80035464",
   "metadata": {},
   "outputs": [
    {
     "data": {
      "text/plain": [
       "array([3, 4])"
      ]
     },
     "execution_count": 72,
     "metadata": {},
     "output_type": "execute_result"
    }
   ],
   "source": [
    "# How to find common values between two arrays?\n",
    "\n",
    "arr1 = ([1,2,3,4])\n",
    "arr2 = ([3,4,5,6])\n",
    "\n",
    "np.intersect1d(arr1, arr2)"
   ]
  },
  {
   "cell_type": "code",
   "execution_count": 76,
   "id": "ddd792c3",
   "metadata": {},
   "outputs": [
    {
     "name": "stdout",
     "output_type": "stream",
     "text": [
      "[0.30412079 0.41702221 0.51042234 0.58593655 0.6249035  0.66931378\n",
      " 0.67468905 0.68130077 0.84234244 0.87545684]\n"
     ]
    }
   ],
   "source": [
    "# Create a random vector of size 10 and sort it \n",
    "\n",
    "rand_vect_ten = np.random.random(10,)\n",
    "rand_vect_ten.sort()\n",
    "\n",
    "\n",
    "print(rand_vect_ten)"
   ]
  },
  {
   "cell_type": "code",
   "execution_count": 77,
   "id": "06d228ed",
   "metadata": {},
   "outputs": [
    {
     "name": "stdout",
     "output_type": "stream",
     "text": [
      "[0.08319499 0.76368284 0.24366637 0.19422296 0.57245696 0.09571252\n",
      " 0.88532683 0.62724897 0.72341636 0.01612921]\n"
     ]
    }
   ],
   "source": [
    "# Create random vector of size 10 and replace the maximum value by 0\n",
    "\n",
    "k = np.random.random(10,)\n",
    "print(k)"
   ]
  },
  {
   "cell_type": "code",
   "execution_count": 79,
   "id": "522d687f",
   "metadata": {},
   "outputs": [
    {
     "name": "stdout",
     "output_type": "stream",
     "text": [
      "6\n"
     ]
    }
   ],
   "source": [
    "max_matr = np.argmax(k)\n",
    "print(max_matr)"
   ]
  },
  {
   "cell_type": "code",
   "execution_count": 80,
   "id": "f4113b73",
   "metadata": {},
   "outputs": [
    {
     "name": "stdout",
     "output_type": "stream",
     "text": [
      "[0.08319499 0.76368284 0.24366637 0.19422296 0.57245696 0.09571252\n",
      " 0.         0.62724897 0.72341636 0.01612921]\n"
     ]
    }
   ],
   "source": [
    "k[6] = 0\n",
    "print(k)"
   ]
  },
  {
   "cell_type": "code",
   "execution_count": 87,
   "id": "c145a4a0",
   "metadata": {},
   "outputs": [
    {
     "name": "stdout",
     "output_type": "stream",
     "text": [
      "[[0.69646919 0.28613933 0.22685145 0.55131477]\n",
      " [0.71946897 0.42310646 0.9807642  0.68482974]\n",
      " [0.4809319  0.39211752 0.34317802 0.72904971]]\n"
     ]
    }
   ],
   "source": [
    "# Subtract the mean of each row of a matrix\n",
    "\n",
    "np.random.seed(123)\n",
    "l = np.random.random((3,4))\n",
    "print(l)"
   ]
  },
  {
   "cell_type": "code",
   "execution_count": 89,
   "id": "4bf9de08",
   "metadata": {},
   "outputs": [
    {
     "name": "stdout",
     "output_type": "stream",
     "text": [
      "[[ 0.2562755  -0.15405435 -0.21334223  0.11112108]\n",
      " [ 0.01742663 -0.27893588  0.27872186 -0.0172126 ]\n",
      " [-0.00538738 -0.09420177 -0.14314127  0.24273042]]\n"
     ]
    }
   ],
   "source": [
    "n = l - l.mean(axis=1, keepdims=True)\n",
    "print(n)"
   ]
  },
  {
   "cell_type": "code",
   "execution_count": 90,
   "id": "013048e0",
   "metadata": {},
   "outputs": [],
   "source": [
    "# How to get the n largest values of an array\n",
    "\n",
    "f = np.arange(10000)\n",
    "np.random.shuffle(f)\n",
    "n = 5\n"
   ]
  },
  {
   "cell_type": "code",
   "execution_count": 93,
   "id": "ef4e2d5f",
   "metadata": {},
   "outputs": [
    {
     "name": "stdout",
     "output_type": "stream",
     "text": [
      "[   0    1    2 ... 9997 9998 9999]\n"
     ]
    }
   ],
   "source": [
    "sort_f_ind = np.argsort(f)\n",
    "sort_f = f[sort_f_ind]\n",
    "print(sort_f)"
   ]
  },
  {
   "cell_type": "code",
   "execution_count": 96,
   "id": "a5d76b78",
   "metadata": {},
   "outputs": [
    {
     "name": "stdout",
     "output_type": "stream",
     "text": [
      "[9995 9996 9997 9998 9999]\n"
     ]
    }
   ],
   "source": [
    "larg_f = np.argpartition(sort_f, -5)[-5:]\n",
    "print(larg_f)"
   ]
  },
  {
   "cell_type": "code",
   "execution_count": 104,
   "id": "86417bef",
   "metadata": {},
   "outputs": [
    {
     "name": "stdout",
     "output_type": "stream",
     "text": [
      "[[14 18 11]\n",
      " [22 19 24]\n",
      " [ 2  4 18]\n",
      " [ 6 20  8]\n",
      " [ 6 17  3]]\n"
     ]
    }
   ],
   "source": [
    "# Create a random 5*3 matrix and replace items that are larger than 4 by their squares ( Example:  6 --> 36) \n",
    "\n",
    "matr_five_three = np.random.randint(0,25, (5,3))\n",
    "print(matr_five_three)"
   ]
  },
  {
   "cell_type": "code",
   "execution_count": 105,
   "id": "1fa8537a",
   "metadata": {},
   "outputs": [
    {
     "data": {
      "text/plain": [
       "array([[0, 0, 0],\n",
       "       [0, 0, 0],\n",
       "       [2, 4, 0],\n",
       "       [0, 0, 0],\n",
       "       [0, 0, 3]])"
      ]
     },
     "execution_count": 105,
     "metadata": {},
     "output_type": "execute_result"
    }
   ],
   "source": [
    "np.where(matr_five_three > 4, 0, matr_five_three) # Items larger than 4 are replaced with 0."
   ]
  },
  {
   "cell_type": "code",
   "execution_count": 107,
   "id": "ac373054",
   "metadata": {},
   "outputs": [
    {
     "data": {
      "text/plain": [
       "array([[3.74165739, 4.24264069, 3.31662479],\n",
       "       [4.69041576, 4.35889894, 4.89897949],\n",
       "       [2.        , 4.        , 4.24264069],\n",
       "       [2.44948974, 4.47213595, 2.82842712],\n",
       "       [2.44948974, 4.12310563, 3.        ]])"
      ]
     },
     "execution_count": 107,
     "metadata": {},
     "output_type": "execute_result"
    }
   ],
   "source": [
    "np.where(matr_five_three > 4, np.sqrt(matr_five_three), matr_five_three)"
   ]
  },
  {
   "cell_type": "code",
   "execution_count": null,
   "id": "da347e0c",
   "metadata": {},
   "outputs": [],
   "source": []
  }
 ],
 "metadata": {
  "kernelspec": {
   "display_name": "Python 3 (ipykernel)",
   "language": "python",
   "name": "python3"
  },
  "language_info": {
   "codemirror_mode": {
    "name": "ipython",
    "version": 3
   },
   "file_extension": ".py",
   "mimetype": "text/x-python",
   "name": "python",
   "nbconvert_exporter": "python",
   "pygments_lexer": "ipython3",
   "version": "3.9.7"
  }
 },
 "nbformat": 4,
 "nbformat_minor": 5
}
