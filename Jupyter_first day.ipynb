{
 "cells": [
  {
   "cell_type": "markdown",
   "id": "6f93d892",
   "metadata": {},
   "source": [
    "# My holiday preference"
   ]
  },
  {
   "cell_type": "markdown",
   "id": "fbcd3495",
   "metadata": {},
   "source": [
    "### *The purpose of this notebook is to introduce my holiday preferences with a picture and a youtube video.*"
   ]
  },
  {
   "cell_type": "code",
   "execution_count": 39,
   "id": "fe54d4be",
   "metadata": {},
   "outputs": [],
   "source": [
    "# Here is the function to get the name of the person.\n",
    "\n",
    "def name():\n",
    "    x = input(\"Enter the name related to this notebook: \")\n",
    "    print(\"Your name is: \", x)"
   ]
  },
  {
   "cell_type": "markdown",
   "id": "e5c43878",
   "metadata": {},
   "source": [
    "![alt text](https://www.wwf.de/fileadmin/_processed_/f/6/csm_roter-panda-liegend-auf-ast-596087772-c-myimages-micha-istock-getty-images_677765053b.jpg)"
   ]
  },
  {
   "cell_type": "code",
   "execution_count": 40,
   "id": "95a18b29",
   "metadata": {},
   "outputs": [],
   "source": [
    "# Here is the function to receive the destination and other wishes related to the travelling.\n",
    "\n",
    "def destination():\n",
    "    y = input(\"Where would you like to travel: \")\n",
    "    z = input(\"What do you want to see?\")\n",
    "    a = input(\"What else do you want to see?\")\n",
    "    b = input(\"What do you want to eat?\")\n",
    "    print(\"You would like to visit\", y, \"and see\", z, \"and\", a, \"and eat\", b)"
   ]
  },
  {
   "cell_type": "markdown",
   "id": "d5f5debc",
   "metadata": {},
   "source": [
    "![alt text](https://zeitreisen.zeit.de/wp-content/uploads/2020/06/aufmacher_japan.jpg)"
   ]
  },
  {
   "cell_type": "markdown",
   "id": "7da8f413",
   "metadata": {},
   "source": [
    "+ $\\color{red}{\\text{walking}}$\n",
    "+ $\\color{blue}{\\text{eating}}$\n",
    "+ $\\color{pink}{\\text{exploring}}$"
   ]
  },
  {
   "cell_type": "code",
   "execution_count": 41,
   "id": "25c0a747",
   "metadata": {},
   "outputs": [
    {
     "name": "stdout",
     "output_type": "stream",
     "text": [
      "Enter the name related to this notebook: maris\n",
      "Your name is:  maris\n"
     ]
    }
   ],
   "source": [
    "# Testing if the function name() works.\n",
    "\n",
    "name()"
   ]
  },
  {
   "cell_type": "code",
   "execution_count": 38,
   "id": "6c0920e4",
   "metadata": {},
   "outputs": [
    {
     "name": "stdout",
     "output_type": "stream",
     "text": [
      "Where would you like to travel: Japan\n",
      "What do you want to see?mountains\n",
      "What else do you want to see?birds\n",
      "What do you want to eat?japanese food\n",
      "You would like to visit Japan and see mountains and birds and eat japanese food\n"
     ]
    }
   ],
   "source": [
    "# Testing if the function destination() works.\n",
    "\n",
    "destination()"
   ]
  },
  {
   "cell_type": "markdown",
   "id": "bfc3a84a",
   "metadata": {},
   "source": [
    "[Video of Japan](https://www.youtube.com/watch?v=8eMWd9AG9o8)"
   ]
  },
  {
   "cell_type": "code",
   "execution_count": null,
   "id": "5bea74bf",
   "metadata": {},
   "outputs": [],
   "source": []
  }
 ],
 "metadata": {
  "kernelspec": {
   "display_name": "Python 3 (ipykernel)",
   "language": "python",
   "name": "python3"
  },
  "language_info": {
   "codemirror_mode": {
    "name": "ipython",
    "version": 3
   },
   "file_extension": ".py",
   "mimetype": "text/x-python",
   "name": "python",
   "nbconvert_exporter": "python",
   "pygments_lexer": "ipython3",
   "version": "3.9.7"
  }
 },
 "nbformat": 4,
 "nbformat_minor": 5
}
